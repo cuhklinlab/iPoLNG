{
 "cells": [
  {
   "cell_type": "markdown",
   "metadata": {},
   "source": [
    "# Load package and example data"
   ]
  },
  {
   "cell_type": "markdown",
   "metadata": {},
   "source": [
    "After importing the packages, we use the ``torch.set_default_tensor_type`` function to enable GPU acceleration if CUDA is available."
   ]
  },
  {
   "cell_type": "code",
   "execution_count": 1,
   "metadata": {},
   "outputs": [],
   "source": [
    "from iPoLNG import iPoLNG\n",
    "import torch\n",
    "import scanpy as sc\n",
    "import matplotlib.pyplot as plt\n",
    "torch.set_default_tensor_type(\"torch.cuda.FloatTensor\" if torch.cuda.is_available() else \"torch.FloatTensor\")"
   ]
  },
  {
   "cell_type": "markdown",
   "metadata": {},
   "source": [
    "Next, we load the example data attached in the ``iPoLNG`` package. The example data has two data modalities: ``W1`` has 500 cells and 5,000 features, ``W2`` has 500 cells and 20,000 features. Note that these 500 cells should be matched accordingly across different data modalities."
   ]
  },
  {
   "cell_type": "code",
   "execution_count": 2,
   "metadata": {},
   "outputs": [
    {
     "name": "stdout",
     "output_type": "stream",
     "text": [
      "dict_keys(['W1', 'W2'])\n",
      "torch.Size([500, 5000])\n",
      "torch.Size([500, 20000])\n"
     ]
    }
   ],
   "source": [
    "W = iPoLNG.load_example_data()\n",
    "print(W.keys())\n",
    "print(W['W1'].shape)\n",
    "print(W['W2'].shape)"
   ]
  },
  {
   "cell_type": "markdown",
   "metadata": {},
   "source": [
    "# Run the iPoLNG model"
   ]
  },
  {
   "cell_type": "markdown",
   "metadata": {},
   "source": [
    "Now we are ready to run the model. The parameters are set in the ``iPoLNG.iPoLNG`` function, and ``model.Run()`` will start the computation."
   ]
  },
  {
   "cell_type": "code",
   "execution_count": 4,
   "metadata": {},
   "outputs": [
    {
     "name": "stdout",
     "output_type": "stream",
     "text": [
      "Run PoLNG for data modality W1 ...\n"
     ]
    },
    {
     "name": "stderr",
     "output_type": "stream",
     "text": [
      "100%|██████████| 500/500 [00:08<00:00, 60.69it/s, epoch_loss=1.82e+03]\n"
     ]
    },
    {
     "name": "stdout",
     "output_type": "stream",
     "text": [
      "Run PoLNG for data modality W2 ...\n"
     ]
    },
    {
     "name": "stderr",
     "output_type": "stream",
     "text": [
      "100%|██████████| 500/500 [00:30<00:00, 16.44it/s, epoch_loss=5.73e+03]\n"
     ]
    },
    {
     "name": "stdout",
     "output_type": "stream",
     "text": [
      "alpha0 for data modality W1: 5.843589597346264\n",
      "alpha0 for data modality W2: 7.599075458477387\n",
      "Run iPoLNG...\n"
     ]
    },
    {
     "name": "stderr",
     "output_type": "stream",
     "text": [
      "100%|██████████| 300/300 [00:31<00:00,  9.61it/s, epoch_loss=7.33e+03]\n"
     ]
    }
   ],
   "source": [
    "model = iPoLNG.iPoLNG(W, num_topics=20, integrated_epochs=300, warmup_epochs=500, seed=42, verbose=True)\n",
    "result = model.Run()"
   ]
  },
  {
   "cell_type": "markdown",
   "metadata": {},
   "source": [
    "# Analyze the result"
   ]
  },
  {
   "cell_type": "markdown",
   "metadata": {},
   "source": [
    "Let's see the structure of ``result``."
   ]
  },
  {
   "cell_type": "code",
   "execution_count": 5,
   "metadata": {},
   "outputs": [
    {
     "data": {
      "text/plain": [
       "dict_keys(['L_est', 'Ls_est', 'Thetas_est', 'time', 'loss', 'alpha0s'])"
      ]
     },
     "execution_count": 5,
     "metadata": {},
     "output_type": "execute_result"
    }
   ],
   "source": [
    "result.keys()"
   ]
  },
  {
   "cell_type": "code",
   "execution_count": 6,
   "metadata": {},
   "outputs": [
    {
     "data": {
      "text/plain": [
       "(500, 20)"
      ]
     },
     "execution_count": 6,
     "metadata": {},
     "output_type": "execute_result"
    }
   ],
   "source": [
    "result['L_est'].shape"
   ]
  },
  {
   "cell_type": "markdown",
   "metadata": {},
   "source": [
    "We use ``scanpy`` package to perform leiden clustering and plot the heatmap."
   ]
  },
  {
   "cell_type": "code",
   "execution_count": 7,
   "metadata": {},
   "outputs": [
    {
     "data": {
      "image/png": "[encoded data removed]",
      "text/plain": [
       "<Figure size 446.4x432 with 3 Axes>"
      ]
     },
     "metadata": {
      "needs_background": "light"
     },
     "output_type": "display_data"
    }
   ],
   "source": [
    "adata = sc.AnnData(result['L_est'])\n",
    "sc.pp.neighbors(adata, n_neighbors=15,use_rep='X')\n",
    "sc.tl.leiden(adata)\n",
    "L_est_reorder = result['L_est'][adata.obs['leiden'].sort_values().index.to_numpy(dtype=int),:]\n",
    "sc.pl.heatmap(adata,var_names=adata.var_names,groupby='leiden')"
   ]
  },
  {
   "cell_type": "code",
   "execution_count": 8,
   "metadata": {},
   "outputs": [
    {
     "name": "stdout",
     "output_type": "stream",
     "text": [
      "dict_keys(['W1', 'W2'])\n",
      "(500, 20)\n",
      "(500, 20)\n"
     ]
    }
   ],
   "source": [
    "print(result['Ls_est'].keys())\n",
    "print(result['Ls_est']['W1'].shape)\n",
    "print(result['Ls_est']['W2'].shape)"
   ]
  },
  {
   "cell_type": "code",
   "execution_count": 9,
   "metadata": {},
   "outputs": [
    {
     "name": "stdout",
     "output_type": "stream",
     "text": [
      "dict_keys(['W1', 'W2'])\n",
      "(20, 5000)\n",
      "(20, 20000)\n"
     ]
    }
   ],
   "source": [
    "print(result['Thetas_est'].keys())\n",
    "print(result['Thetas_est']['W1'].shape)\n",
    "print(result['Thetas_est']['W2'].shape)"
   ]
  },
  {
   "cell_type": "code",
   "execution_count": 10,
   "metadata": {},
   "outputs": [
    {
     "name": "stdout",
     "output_type": "stream",
     "text": [
      "The running time of the program is 69.95521092414856s.\n"
     ]
    }
   ],
   "source": [
    "print(\"The running time of the program is {}s.\".format(result['time']))"
   ]
  },
  {
   "cell_type": "markdown",
   "metadata": {},
   "source": [
    "We plot the ``loss`` (negative ELBO) for PoLNG in the warm-up step and iPoLNG. We can see that the loss decreases quickly in the first few epochs, which suggests that the stochastic variational inference algorithm is effective."
   ]
  },
  {
   "cell_type": "code",
   "execution_count": 11,
   "metadata": {},
   "outputs": [
    {
     "name": "stdout",
     "output_type": "stream",
     "text": [
      "dict_keys(['W1', 'W2', 'iPoLNG'])\n"
     ]
    },
    {
     "data": {
      "text/plain": [
       "[<matplotlib.lines.Line2D at 0x29e53594ee0>]"
      ]
     },
     "execution_count": 11,
     "metadata": {},
     "output_type": "execute_result"
    },
    {
     "data": {
      "image/png": "[encoded data removed]",
      "text/plain": [
       "<Figure size 1080x360 with 3 Axes>"
      ]
     },
     "metadata": {
      "needs_background": "light"
     },
     "output_type": "display_data"
    }
   ],
   "source": [
    "print(result['loss'].keys())\n",
    "fig,axes = plt.subplots(1,3,figsize=(15,5))\n",
    "axes[0].plot(result['loss']['W1'])\n",
    "axes[1].plot(result['loss']['W2'])\n",
    "axes[2].plot(result['loss']['iPoLNG'])"
   ]
  },
  {
   "cell_type": "markdown",
   "metadata": {},
   "source": [
    "``alpha0s`` saves the hyperparameters that controls the noise of level in different data modalities."
   ]
  },
  {
   "cell_type": "code",
   "execution_count": 12,
   "metadata": {},
   "outputs": [
    {
     "data": {
      "text/plain": [
       "{'W1': 5.843589597346264, 'W2': 7.599075458477387}"
      ]
     },
     "execution_count": 12,
     "metadata": {},
     "output_type": "execute_result"
    }
   ],
   "source": [
    "result['alpha0s']"
   ]
  }
 ],
 "metadata": {
  "kernelspec": {
   "display_name": "Python 3.9.12 ('base')",
   "language": "python",
   "name": "python3"
  },
  "language_info": {
   "codemirror_mode": {
    "name": "ipython",
    "version": 3
   },
   "file_extension": ".py",
   "mimetype": "text/x-python",
   "name": "python",
   "nbconvert_exporter": "python",
   "pygments_lexer": "ipython3",
   "version": "3.9.0"
  },
  "orig_nbformat": 4,
  "vscode": {
   "interpreter": {
    "hash": "b4fabd3c21e487928cde7f2a76ba8f61197ab596b6425ad7ebd07a3d9d089fd0"
   }
  }
 },
 "nbformat": 4,
 "nbformat_minor": 2
}
